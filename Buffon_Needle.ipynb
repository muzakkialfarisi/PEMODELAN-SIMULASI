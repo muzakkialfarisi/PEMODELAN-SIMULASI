{
  "nbformat": 4,
  "nbformat_minor": 0,
  "metadata": {
    "colab": {
      "name": "Buffon-Needle.ipynb",
      "provenance": [],
      "collapsed_sections": [],
      "authorship_tag": "ABX9TyMNR56AWSXQEyJ2MjtYImuS",
      "include_colab_link": true
    },
    "kernelspec": {
      "name": "python3",
      "display_name": "Python 3"
    }
  },
  "cells": [
    {
      "cell_type": "markdown",
      "metadata": {
        "id": "view-in-github",
        "colab_type": "text"
      },
      "source": [
        "<a href=\"https://colab.research.google.com/github/muzakkialfarisi/PEMODELAN-SIMULASI/blob/buffon-needle/Buffon_Needle.ipynb\" target=\"_parent\"><img src=\"https://colab.research.google.com/assets/colab-badge.svg\" alt=\"Open In Colab\"/></a>"
      ]
    },
    {
      "cell_type": "code",
      "metadata": {
        "id": "3rI6CffzgfLd",
        "colab_type": "code",
        "outputId": "31388b0c-2419-4edd-e123-471beae4eca3",
        "colab": {
          "base_uri": "https://localhost:8080/",
          "height": 517
        }
      },
      "source": [
        "import random\n",
        "import numpy as np\n",
        "import matplotlib.pyplot as plt\n",
        "from numpy import pi, cos\n",
        "\n",
        "def buffon(L, D, N):\n",
        "  hit = 0\n",
        "  for loop in range(N):\n",
        "    theta = pi*random.random()/2\n",
        "    if (D*random.random() <= L*cos(theta)):\n",
        "      hit += 1\n",
        "  return hit\n",
        "  \n",
        "q, r = [], []\n",
        "def cont_pi(N):\n",
        "  L = 3\n",
        "  D = 4\n",
        "  Q = buffon(L, D, N)\n",
        "  Pi_est = 2*N*L / (Q*D)\n",
        "  q.append(Q)\n",
        "  return Pi_est\n",
        "\n",
        "\n",
        "L = 3\n",
        "D = 4\n",
        "x = np.arange(30,300,30)\n",
        "y = np.zeros(len(x))\n",
        "n = len(x)\n",
        "for i in range(n):\n",
        "  y[i] = cont_pi(x[i])\n",
        "\n",
        "for i in range(n):\n",
        "  r.append(q[i]-q[i-1])\n",
        "\n",
        "\n",
        "plt.plot(x,y,'.')\n",
        "plt.axhline(y=pi, color='r', linestyle='-')\n",
        "plt.xlabel('N (ukuran sample)')\n",
        "plt.ylabel('$\\pi$')\n",
        "plt.show()\n",
        "print('NILAI RATA-RATA PI')\n",
        "print(round((sum(y)/n),3),'\\n')\n",
        "print('NILAI PI DISETIAP PERCOBAAN')\n",
        "print(y,'\\n')\n",
        "print('NILAI Q DISETIAP PERCOBAAN')\n",
        "print(q,'\\n')\n",
        "print(r,'\\n')\n",
        "print(n,'\\n')\n"
      ],
      "execution_count": 0,
      "outputs": [
        {
          "output_type": "display_data",
          "data": {
            "image/png": "[encoded data removed]",
            "text/plain": [
              "<Figure size 432x288 with 1 Axes>"
            ]
          },
          "metadata": {
            "tags": []
          }
        },
        {
          "output_type": "stream",
          "text": [
            "NILAI RATA-RATA PI\n",
            "3.349 \n",
            "\n",
            "NILAI PI DISETIAP PERCOBAAN\n",
            "[4.5        2.90322581 3.97058824 3.10344828 3.08219178 3.06818182\n",
            " 3.18181818 3.24324324 3.09160305] \n",
            "\n",
            "NILAI Q DISETIAP PERCOBAAN\n",
            "[10, 31, 34, 58, 73, 88, 99, 111, 131] \n",
            "\n",
            "[-121, 21, 3, 24, 15, 15, 11, 12, 20] \n",
            "\n",
            "9 \n",
            "\n"
          ],
          "name": "stdout"
        }
      ]
    }
  ]
}